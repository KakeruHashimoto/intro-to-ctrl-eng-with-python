{
 "cells": [
  {
   "cell_type": "code",
   "execution_count": 2,
   "id": "a5b86802",
   "metadata": {},
   "outputs": [],
   "source": [
    "import numpy as np\n",
    "import matplotlib.pyplot as plt\n",
    "import sympy as sp\n",
    "from control.matlab import *"
   ]
  },
  {
   "cell_type": "markdown",
   "id": "aa86529b",
   "metadata": {},
   "source": [
    "# 伝達関数モデル\n",
    "\n",
    "関数```tf(num, den)```を使って伝達関数を記述できる。\n",
    "\n",
    "\n",
    "$$\n",
    "\\mathcal{P} = \\frac{1}{s^2+2s+3}\n",
    "$$\n",
    "\n",
    "\n",
    "の場合、"
   ]
  },
  {
   "cell_type": "code",
   "execution_count": 4,
   "id": "5b580e58",
   "metadata": {},
   "outputs": [
    {
     "name": "stdout",
     "output_type": "stream",
     "text": [
      "\n",
      "      1\n",
      "-------------\n",
      "s^2 + 2 s + 3\n",
      "\n"
     ]
    }
   ],
   "source": [
    "Np = [0, 1] #分子 (0*s + 1)\n",
    "Dp = [1, 2, 3] #分母\n",
    "P = tf(Np, Dp)\n",
    "print(P)"
   ]
  },
  {
   "cell_type": "markdown",
   "id": "ee67f269",
   "metadata": {},
   "source": [
    "# 状態空間モデル\n",
    "\n",
    "関数```ss(A, B, C, D)```を使って状態空間モデルを記述できる。\n",
    "\n",
    "$$\n",
    "\\mathcal{P} : \n",
    "    \\begin{cases}\n",
    "        \\dot{\\boldsymbol{x}}(t) =\n",
    "        \\left[\\begin{array}{ccc}\n",
    "            1&1&2 \\\\\n",
    "            2&1&1 \\\\\n",
    "            3&4&5 \\\\\n",
    "        \\end{array}\\right]\n",
    "        \\boldsymbol{x}(t) +\n",
    "        \\left[\\begin{array}{c}\n",
    "            2 \\\\\n",
    "            0 \\\\\n",
    "            1 \\\\\n",
    "        \\end{array}\\right]\n",
    "        u(t)\\\\\n",
    "        y(t) =\n",
    "        \\left[\\begin{array}{ccc}\n",
    "            1&1&0 \\\\\n",
    "        \\end{array}\\right]\n",
    "        \\boldsymbol{x}(t)+u(t)\n",
    "    \\end{cases}\n",
    "$$\n",
    "\n",
    "の場合、"
   ]
  },
  {
   "cell_type": "code",
   "execution_count": 7,
   "id": "7647fd3b",
   "metadata": {},
   "outputs": [
    {
     "name": "stdout",
     "output_type": "stream",
     "text": [
      "A = [[1. 1. 2.]\n",
      "     [2. 1. 1.]\n",
      "     [3. 4. 5.]]\n",
      "\n",
      "B = [[2.]\n",
      "     [0.]\n",
      "     [1.]]\n",
      "\n",
      "C = [[1. 1. 0.]]\n",
      "\n",
      "D = [[0.]]\n",
      "\n"
     ]
    }
   ],
   "source": [
    "A = '1 1 2; 2 1 1 ; 3 4 5'\n",
    "B = '2; 0; 1'\n",
    "C = '1 1 0'\n",
    "D = 0\n",
    "P = ss(A, B, C, D)\n",
    "print(P)"
   ]
  },
  {
   "cell_type": "markdown",
   "id": "3c09cea1-d843-4ca7-b8a5-4a8771e48817",
   "metadata": {},
   "source": [
    "# ブロック線図\n",
    "\n",
    "#### 直列結合\n",
    "\n",
    "$$\n",
    "S = S_2{\\cdot}S_1\n",
    "$$\n"
   ]
  },
  {
   "cell_type": "code",
   "execution_count": 6,
   "id": "e73c8ded-02ad-4049-b218-d9d90df2acdd",
   "metadata": {},
   "outputs": [
    {
     "name": "stdout",
     "output_type": "stream",
     "text": [
      "S= \n",
      "        s + 1\n",
      "---------------------\n",
      "s^3 + 2 s^2 + 2 s + 1\n",
      "\n",
      "S= \n",
      "        s + 1\n",
      "---------------------\n",
      "s^3 + 2 s^2 + 2 s + 1\n",
      "\n"
     ]
    }
   ],
   "source": [
    "S1 = tf([0, 1], [1, 1])\n",
    "S2 = tf([1, 1], [1, 1, 1])\n",
    "S = S1 * S2 #伝達関数の掛け算で表現できる\n",
    "print('S=', S)\n",
    "S = series(S1, S2)  #series関数を使ってもよい（pandasのSeriesとは関係ない）\n",
    "print('S=', S)"
   ]
  },
  {
   "cell_type": "markdown",
   "id": "c55828ab-a520-45b0-9ae9-2ce26190f0fa",
   "metadata": {},
   "source": [
    "#### 並列結合\n",
    "\n",
    "$$\n",
    "S=S_1+S_2\n",
    "$$"
   ]
  },
  {
   "cell_type": "code",
   "execution_count": 8,
   "id": "c570a8bf",
   "metadata": {},
   "outputs": [
    {
     "name": "stdout",
     "output_type": "stream",
     "text": [
      "S= \n",
      "   2 s^2 + 3 s + 2\n",
      "---------------------\n",
      "s^3 + 2 s^2 + 2 s + 1\n",
      "\n",
      "S= \n",
      "   2 s^2 + 3 s + 2\n",
      "---------------------\n",
      "s^3 + 2 s^2 + 2 s + 1\n",
      "\n"
     ]
    }
   ],
   "source": [
    "S = S1 + S2 #伝達関数の足し算で表現できる\n",
    "print('S=', S)\n",
    "S = parallel(S1, S2)\n",
    "print('S=', S)"
   ]
  },
  {
   "cell_type": "markdown",
   "id": "78e29f58",
   "metadata": {},
   "source": [
    "#### フィードバック結合\n",
    "\n",
    "$$\n",
    "S = \\frac{S_1}{1+S_1S_2}\n",
    "$$"
   ]
  },
  {
   "cell_type": "code",
   "execution_count": 9,
   "id": "6c55b4fc",
   "metadata": {},
   "outputs": [
    {
     "name": "stdout",
     "output_type": "stream",
     "text": [
      "S= \n",
      "   2 s^2 + 3 s + 2\n",
      "---------------------\n",
      "s^3 + 2 s^2 + 2 s + 1\n",
      "\n",
      "S= \n",
      "      s^5 + 3 s^4 + 5 s^3 + 5 s^2 + 3 s + 1\n",
      "-------------------------------------------------\n",
      "s^6 + 4 s^5 + 10 s^4 + 16 s^3 + 16 s^2 + 10 s + 3\n",
      "\n"
     ]
    }
   ],
   "source": [
    "S1 = S1 / (1 + S1*S2)\n",
    "print('S=', S)\n",
    "S = feedback(S1, S2) \n",
    "print('S=', S)"
   ]
  },
  {
   "cell_type": "code",
   "execution_count": 19,
   "id": "c7dde968",
   "metadata": {},
   "outputs": [
    {
     "name": "stdout",
     "output_type": "stream",
     "text": [
      "S = \n",
      "     s^2 + s + 1\n",
      "---------------------\n",
      "s^3 + 2 s^2 + 4 s + 3\n",
      "\n"
     ]
    }
   ],
   "source": [
    "#形が違うのは、Pythonでは自動的に約分が行われないため\n",
    "#約分するにはminrealを用いる\n",
    "print('S =', S.minreal())"
   ]
  },
  {
   "cell_type": "markdown",
   "id": "1bae2291",
   "metadata": {},
   "source": [
    "# 伝達関数モデルと状態空間モデルの変換について\n",
    "\n",
    "状態空間モデルから伝達関数モデルへの変換は一意に定まる。一方で、\n",
    "\n",
    "伝達関数モデルから状態空間モデルへの変換は無数に存在する（状態空間モデルの状態を自由に選ぶことができるため）。\n",
    "\n",
    "そのため、**可制御正準形**や**可観測正準形**というもので実現することが多い。\n",
    "\n",
    "\n",
    "Pythonで変換するには、\n",
    "\n"
   ]
  },
  {
   "cell_type": "code",
   "execution_count": 3,
   "id": "8a92a471",
   "metadata": {},
   "outputs": [
    {
     "name": "stdout",
     "output_type": "stream",
     "text": [
      "A = [[-1. -1.]\n",
      "     [ 1.  0.]]\n",
      "\n",
      "B = [[1.]\n",
      "     [0.]]\n",
      "\n",
      "C = [[0. 1.]]\n",
      "\n",
      "D = [[0.]]\n",
      "\n",
      "\n",
      "     1\n",
      "-----------\n",
      "s^2 + s + 1\n",
      "\n"
     ]
    }
   ],
   "source": [
    "P = tf([0, 1], [1, 1, 1])\n",
    "\n",
    "Pss = tf2ss(P)\n",
    "print(Pss)          #伝達関数モデル→状態空間モデルへの変換\n",
    "Ptf = ss2tf(Pss)    #状態空間モデル→伝達関数モデルへの変換\n",
    "print(Ptf)"
   ]
  },
  {
   "cell_type": "code",
   "execution_count": null,
   "metadata": {},
   "outputs": [],
   "source": []
  }
 ],
 "metadata": {
  "interpreter": {
   "hash": "b694403c6a508bdef6b70eb51ac6ac9d97d2c2d42e020edaa53d5d28ece91744"
  },
  "kernelspec": {
   "display_name": "Python 3.9.7 64-bit ('intro-to-ctrl-eng-with-python': conda)",
   "name": "python3"
  },
  "language_info": {
   "codemirror_mode": {
    "name": "ipython",
    "version": 3
   },
   "file_extension": ".py",
   "mimetype": "text/x-python",
   "name": "python",
   "nbconvert_exporter": "python",
   "pygments_lexer": "ipython3",
   "version": "3.9.7"
  }
 },
 "nbformat": 4,
 "nbformat_minor": 5
}
