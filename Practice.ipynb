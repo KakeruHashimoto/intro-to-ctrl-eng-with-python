{
 "cells": [
  {
   "cell_type": "code",
   "execution_count": 1,
   "id": "a5b86802",
   "metadata": {},
   "outputs": [],
   "source": [
    "import numpy as np\n",
    "import matplotlib.pyplot as plt\n",
    "import sympy as sp\n",
    "from control.matlab import *"
   ]
  },
  {
   "cell_type": "markdown",
   "id": "aa86529b",
   "metadata": {},
   "source": [
    "# 3.2 伝達関数モデル\n",
    "\n",
    "関数```tf(num, den)```を使って伝達関数を記述できる。\n",
    "\n",
    "\n",
    "$$\n",
    "\\mathcal{P} = \\frac{1}{s^2+2s+3}\n",
    "$$\n",
    "\n",
    "\n",
    "を記述する場合は、"
   ]
  },
  {
   "cell_type": "code",
   "execution_count": 4,
   "id": "5b580e58",
   "metadata": {},
   "outputs": [
    {
     "name": "stdout",
     "output_type": "stream",
     "text": [
      "\n",
      "      1\n",
      "-------------\n",
      "s^2 + 2 s + 3\n",
      "\n"
     ]
    }
   ],
   "source": [
    "Np = [0, 1] #分子 (0*s + 1)\n",
    "Dp = [1, 2, 3] #分母\n",
    "P = tf(Np, Dp)\n",
    "print(P)"
   ]
  },
  {
   "cell_type": "markdown",
   "id": "ee67f269",
   "metadata": {},
   "source": [
    "# 3.3 状態空間モデル\n",
    "\n",
    "関数```ss(A, B, C, D)```を使って状態空間モデルを記述できる。\n",
    "\n",
    "$$\n",
    "\\mathcal{P} : \n",
    "    \\begin{cases}\n",
    "        \\dot{\\boldsymbol{x}}(t) =\n",
    "        \\left[\\begin{array}{ccc}\n",
    "            1&1&2 \\\\\n",
    "            2&1&1 \\\\\n",
    "            3&4&5 \\\\\n",
    "        \\end{array}\\right]\n",
    "        \\boldsymbol{x}(t) +\n",
    "        \\left[\\begin{array}{c}\n",
    "            2 \\\\\n",
    "            0 \\\\\n",
    "            1 \\\\\n",
    "        \\end{array}\\right]\n",
    "        u(t)\\\\\n",
    "        y(t) =\n",
    "        \\left[\\begin{array}{ccc}\n",
    "            1&1&0 \\\\\n",
    "        \\end{array}\\right]\n",
    "        \\boldsymbol{x}(t)+u(t)\n",
    "    \\end{cases}\n",
    "$$"
   ]
  },
  {
   "cell_type": "code",
   "execution_count": 7,
   "id": "7647fd3b",
   "metadata": {},
   "outputs": [
    {
     "name": "stdout",
     "output_type": "stream",
     "text": [
      "A = [[1. 1. 2.]\n",
      "     [2. 1. 1.]\n",
      "     [3. 4. 5.]]\n",
      "\n",
      "B = [[2.]\n",
      "     [0.]\n",
      "     [1.]]\n",
      "\n",
      "C = [[1. 1. 0.]]\n",
      "\n",
      "D = [[0.]]\n",
      "\n"
     ]
    }
   ],
   "source": [
    "A = '1 1 2; 2 1 1 ; 3 4 5'\n",
    "B = '2; 0; 1'\n",
    "C = '1 1 0'\n",
    "D = 0\n",
    "P = ss(A, B, C, D)\n",
    "print(P)"
   ]
  },
  {
   "cell_type": "code",
   "execution_count": null,
   "id": "fd3a0408",
   "metadata": {},
   "outputs": [],
   "source": []
  }
 ],
 "metadata": {
  "kernelspec": {
   "display_name": "intro-to-ctrl-eng-with-python",
   "language": "python",
   "name": "intro-to-ctrl-eng-with-python"
  },
  "language_info": {
   "codemirror_mode": {
    "name": "ipython",
    "version": 3
   },
   "file_extension": ".py",
   "mimetype": "text/x-python",
   "name": "python",
   "nbconvert_exporter": "python",
   "pygments_lexer": "ipython3",
   "version": "3.9.7"
  }
 },
 "nbformat": 4,
 "nbformat_minor": 5
}
