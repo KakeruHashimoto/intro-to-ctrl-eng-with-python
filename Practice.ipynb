{
 "cells": [
  {
   "cell_type": "code",
   "execution_count": 1,
   "id": "a5b86802",
   "metadata": {},
   "outputs": [],
   "source": [
    "import numpy as np\n",
    "import matplotlib.pyplot as plt\n",
    "import sympy as sp\n",
    "from control.matlab import *"
   ]
  },
  {
   "cell_type": "markdown",
   "id": "aa86529b",
   "metadata": {},
   "source": [
    "# 3.2 伝達関数モデル\n",
    "関数 tf(num, den) を使って伝達関数を記述できる。\n",
    "$$\\mathcal{P} = \\frac{1}{s^2+2s+3}$$\n",
    "を記述する場合は、"
   ]
  },
  {
   "cell_type": "code",
   "execution_count": 4,
   "id": "5b580e58",
   "metadata": {},
   "outputs": [
    {
     "name": "stdout",
     "output_type": "stream",
     "text": [
      "\n",
      "      1\n",
      "-------------\n",
      "s^2 + 2 s + 3\n",
      "\n"
     ]
    }
   ],
   "source": [
    "Np = [0, 1] #分子 (0*s + 1)\n",
    "Dp = [1, 2, 3] #分母\n",
    "P = tf(Np, Dp)\n",
    "print(P)"
   ]
  },
  {
   "cell_type": "markdown",
   "id": "cef82882",
   "metadata": {},
   "source": [
    "# 3.3 状態空間モデル"
   ]
  },
  {
   "cell_type": "code",
   "execution_count": null,
   "id": "80896d91",
   "metadata": {},
   "outputs": [],
   "source": []
  }
 ],
 "metadata": {
  "kernelspec": {
   "display_name": "intro-to-ctrl-eng-with-python",
   "language": "python",
   "name": "intro-to-ctrl-eng-with-python"
  },
  "language_info": {
   "codemirror_mode": {
    "name": "ipython",
    "version": 3
   },
   "file_extension": ".py",
   "mimetype": "text/x-python",
   "name": "python",
   "nbconvert_exporter": "python",
   "pygments_lexer": "ipython3",
   "version": "3.9.7"
  }
 },
 "nbformat": 4,
 "nbformat_minor": 5
}
